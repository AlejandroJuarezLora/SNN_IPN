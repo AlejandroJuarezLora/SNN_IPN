{
 "cells": [
  {
   "cell_type": "code",
   "execution_count": 78,
   "metadata": {},
   "outputs": [],
   "source": [
    "import numpy as np\n",
    "\n",
    "Wp=19.5e3\n",
    "X = 150\n",
    "C= 200e-12\n",
    "K = 50\n",
    "#BW3db = 3.18e3\n",
    "BW3db = 38.46\n",
    "Qp = Wp/BW3db\n",
    "C2 = C\n",
    "#C3 = C*((X - 2*(Qp**2) - np.sqrt(X**2 - 4*(Qp**2)*X))/(2*Qp**2))\n",
    "C3 = C\n",
    "R1 = 1/(Qp*Wp*(C2+C3))\n",
    "R4 = X * R1\n",
    "R11 = C2*R1*R4/(K*(C2+C3))\n",
    "Zm = C2*R1*R4/(C2*R4 - R1*K*(C2+C3))"
   ]
  },
  {
   "cell_type": "code",
   "execution_count": 84,
   "metadata": {},
   "outputs": [
    {
     "data": {
      "text/plain": [
       "37928.99408284023"
      ]
     },
     "execution_count": 84,
     "metadata": {},
     "output_type": "execute_result"
    }
   ],
   "source": [
    "R4"
   ]
  },
  {
   "cell_type": "code",
   "execution_count": 80,
   "metadata": {},
   "outputs": [],
   "source": [
    "Qp = X/(500e3*Wp * (2*200e-12))"
   ]
  },
  {
   "cell_type": "code",
   "execution_count": 81,
   "metadata": {},
   "outputs": [
    {
     "data": {
      "text/plain": [
       "38.46153846153846"
      ]
     },
     "execution_count": 81,
     "metadata": {},
     "output_type": "execute_result"
    }
   ],
   "source": [
    "Qp"
   ]
  },
  {
   "cell_type": "code",
   "execution_count": null,
   "metadata": {},
   "outputs": [],
   "source": []
  }
 ],
 "metadata": {
  "kernelspec": {
   "display_name": "base",
   "language": "python",
   "name": "python3"
  },
  "language_info": {
   "codemirror_mode": {
    "name": "ipython",
    "version": 3
   },
   "file_extension": ".py",
   "mimetype": "text/x-python",
   "name": "python",
   "nbconvert_exporter": "python",
   "pygments_lexer": "ipython3",
   "version": "3.11.6"
  }
 },
 "nbformat": 4,
 "nbformat_minor": 2
}
