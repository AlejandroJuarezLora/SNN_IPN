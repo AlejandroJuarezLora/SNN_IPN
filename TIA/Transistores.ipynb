{
 "cells": [
  {
   "cell_type": "code",
   "execution_count": 1,
   "metadata": {},
   "outputs": [],
   "source": [
    "# by Abraham Alejandro salazar Hernandez\n",
    "# Lista de parámetros de fabricación\n",
    "\n",
    "Vdd=1.8         #v\n",
    "Vss=0           #v\n",
    "Id=138*10**-6   #A\n",
    "Vx=Vy=0.14      #V\n",
    "Vout1=Vout2=1.4 #V\n",
    "\n",
    "\n",
    "# Lista de parámetros de skywater 130nm\n",
    "# Transistor N\n",
    "Vthn=0.769479           #V\n",
    "UnCox=((2*341.048569*10**(-6))/(1.5-Vthn)**2)*(0.15/1) # UnCox=(2Id/(Vgs-Vthn)^2)(L/W) ; se conoce Vgs y Vthn, se establece W/L y mediante simulacion se puede obtener Id\n",
    "\n",
    " \n",
    "# Transistor P\n",
    "Vthp=0.796825           #v\n",
    "UpCox=((2*119.909798*10**(-6))/(1.5-Vthp)**2)*(0.15/1) # UpCox=(2Id/(Vsg-vthp)^2)(L/W) ; se conoce Vsg y Vthn, se establece W/L y mediante simulacion se puede obtener Id\n"
   ]
  },
  {
   "cell_type": "code",
   "execution_count": 2,
   "metadata": {},
   "outputs": [],
   "source": [
    "# voltaje de ramas\n",
    "Vod1y2=0.5\n",
    "Vod3y4=0.5\n",
    "Vod9=0.66\n",
    "Vod5y6=0.1\n",
    "Vod7y8=0.4"
   ]
  },
  {
   "cell_type": "code",
   "execution_count": 3,
   "metadata": {},
   "outputs": [],
   "source": [
    "def relacionWL(UoCox,Vod):\n",
    "    s=2*Id/(UoCox*(Vod)**2)\n",
    "    return s\n",
    "\n",
    "S3S4=relacionWL(UpCox,Vod3y4)\n",
    "S5S6=relacionWL(UpCox,Vod5y6)\n",
    "S1S2=relacionWL(UnCox,Vod1y2)\n",
    "S7S8=relacionWL(UnCox,Vod7y8)\n",
    "S9=relacionWL(UnCox,Vod9)"
   ]
  },
  {
   "cell_type": "code",
   "execution_count": 9,
   "metadata": {},
   "outputs": [
    {
     "name": "stdout",
     "output_type": "stream",
     "text": [
      "Relacions de W/L = S\n",
      "Transistor P 3 y 4  15.174695705016532\n",
      "Transistor P 5 y 6  379.3673926254132\n",
      "Transistor N 1 y 2  5.758335926936201\n",
      "Transistor N 7 y 8  8.997399885837813\n",
      "Transistor N 9      3.3048300774427233\n"
     ]
    }
   ],
   "source": [
    "print(\"Relacions de W/L = S\")\n",
    "print(\"Transistor P 3 y 4 \",S3S4)\n",
    "print(\"Transistor P 5 y 6 \",S5S6)\n",
    "print(\"Transistor N 1 y 2 \",S1S2)\n",
    "print(\"Transistor N 7 y 8 \",S7S8)\n",
    "print(\"Transistor N 9     \",S9)"
   ]
  },
  {
   "cell_type": "code",
   "execution_count": 5,
   "metadata": {},
   "outputs": [
    {
     "name": "stdout",
     "output_type": "stream",
     "text": [
      "W de transistor P 3 y 4  2.27620435575248\n",
      "W de transistor P 5 y 6  56.90510889381198\n",
      "W de transistor N 1 y 2  0.8637503890404302\n",
      "W de transistor N 7 y 8  1.349609982875672\n",
      "W de transistor N 9      0.49572451161640846\n"
     ]
    }
   ],
   "source": [
    "#obtener la dimencion de w\n",
    "L=0.15  # en caso de que w sea más pequemo de lo que puede ser dibujado, entonces aumntar L hasta llegar al valor minimo de W \n",
    "print(\"W de transistor P 3 y 4 \",S3S4*L)\n",
    "print(\"W de transistor P 5 y 6 \",S5S6*L)\n",
    "print(\"W de transistor N 1 y 2 \",S1S2*L)\n",
    "print(\"W de transistor N 7 y 8 \",S7S8*L)\n",
    "print(\"W de transistor N 9     \",S9*L)"
   ]
  },
  {
   "cell_type": "code",
   "execution_count": 6,
   "metadata": {},
   "outputs": [
    {
     "name": "stdout",
     "output_type": "stream",
     "text": [
      "Transistor N 10  193.78948563038261\n",
      "W de transistor N 10  29.06842284455739\n"
     ]
    }
   ],
   "source": [
    "#Espejo de corriente S9\n",
    "S10=(S1S2*(Vdd/(2*Id)))**(1/2)\n",
    "print(\"Transistor N 10 \",S10)\n",
    "print(\"W de transistor N 10 \",S10*L)"
   ]
  }
 ],
 "metadata": {
  "kernelspec": {
   "display_name": "Python 3",
   "language": "python",
   "name": "python3"
  },
  "language_info": {
   "codemirror_mode": {
    "name": "ipython",
    "version": 3
   },
   "file_extension": ".py",
   "mimetype": "text/x-python",
   "name": "python",
   "nbconvert_exporter": "python",
   "pygments_lexer": "ipython3",
   "version": "3.11.8"
  }
 },
 "nbformat": 4,
 "nbformat_minor": 2
}
