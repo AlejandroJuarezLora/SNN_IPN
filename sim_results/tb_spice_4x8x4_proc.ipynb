{
 "cells": [
  {
   "cell_type": "code",
   "execution_count": 11,
   "metadata": {},
   "outputs": [],
   "source": [
    "import numpy as np\n",
    "import matplotlib.pyplot as plt\n",
    "\n",
    "# Load data from the .txt file\n",
    "#ssh -Y cic@148.204.66.123\n",
    "#ssh -Y osicmicrose@148.204.66.53\n",
    "#scp osicmicrose@148.204.66.53:/home/osicmicrose/Desktop/EDA/SNN_IPN/sim_results/tb_4x8x4_data.txt . \n",
    "#scp cic@148.204.66.123:/home/cic/.xschem/simulations/tb_4x4_modular.txt .\n",
    "data = np.loadtxt('tb_spice_4x8x4_data.txt', skiprows=1)  # Adjust 'data.txt' to your filename\n",
    "\n",
    "# Store each column into separate vectors\n",
    "time = data[:, 0]\n",
    "vin = data[:, 1]\n",
    "Vr1 = data[:, 2]\n",
    "iVread = data[:, 3]\n",
    "hx = data[:, 4]\n",
    "x = data[:, 5]\n",
    "n = data[:, 6:10]\n",
    "m = data[:, 10:14]\n",
    "j = data[:, 14:22]\n",
    "# ij = data[:, 22:54]\n",
    "# jk = data[:, 54:]"
   ]
  },
  {
   "cell_type": "code",
   "execution_count": null,
   "metadata": {},
   "outputs": [],
   "source": [
    "fig, ax = plt.subplots(1, figsize=(10,2))\n",
    "for i in range(n.shape[1]):\n",
    "    ax.plot(time*1000, n[:,i]+(1.8*i), label = f\"N{i+1}\")\n",
    "ax.legend()\n",
    "ax.grid()\n",
    "ax.set_xlabel(\"Time [ms]\")\n",
    "ax.set_ylabel(\"Spikes [V]\")\n",
    "ax.set_title(\"Input Layer Neural activity\")"
   ]
  },
  {
   "cell_type": "code",
   "execution_count": null,
   "metadata": {},
   "outputs": [],
   "source": [
    "fig, ax = plt.subplots(1, figsize=(10,2))\n",
    "for i in range(j.shape[1]):\n",
    "    ax.plot(time*1000, j[:,i]+(1.8*i), label = f\"N{i+1}\")\n",
    "ax.legend()\n",
    "ax.grid()\n",
    "ax.set_xlabel(\"Time [ms]\")\n",
    "ax.set_ylabel(\"Spikes [V]\")\n",
    "ax.set_title(\"Hidden Layer Neural activity\")"
   ]
  },
  {
   "cell_type": "code",
   "execution_count": null,
   "metadata": {},
   "outputs": [],
   "source": [
    "fig, ax = plt.subplots(1, figsize=(10,2))\n",
    "for i in range(m.shape[1]):\n",
    "    ax.plot(time*1000, m[:,i]+(1.8*i), label = f\"M{i+1}\")\n",
    "ax.legend()\n",
    "ax.grid()\n",
    "ax.set_xlabel(\"Time [ms]\")\n",
    "ax.set_ylabel(\"Spikes [V]\")\n",
    "ax.set_title(\"Output Layer Neural activity\")"
   ]
  },
  {
   "cell_type": "code",
   "execution_count": null,
   "metadata": {},
   "outputs": [],
   "source": [
    "fig, ax = plt.subplots(1, figsize=(10,2))\n",
    "ax.plot(time*1000, iVread, label = \"Vin\")\n",
    "ax.set_xlabel(\"Time [ms]\")\n",
    "ax.set_ylabel(\"Output Current [uA]\")\n",
    "ax.set_title(\"OutputCurrent\")\n",
    "ax.grid()"
   ]
  },
  {
   "cell_type": "code",
   "execution_count": null,
   "metadata": {},
   "outputs": [],
   "source": [
    "fig, ax = plt.subplots(1, figsize=(15,3))\n",
    "\n",
    "ax.plot(time*1000, hx, label = \"$\\hat x$\")\n",
    "ax.plot(time*1000, x, label = \"x\")\n",
    "ax.plot(time*1000, Vr1, label = \"Vr1\")\n",
    "ax.legend()\n",
    "ax.grid()\n",
    "ax.set_xlabel(\"Time [ms]\")\n",
    "ax.set_ylabel(\"Voltage [V]\")\n",
    "ax.set_title(\"Votlage signals\")"
   ]
  },
  {
   "cell_type": "code",
   "execution_count": null,
   "metadata": {},
   "outputs": [],
   "source": [
    "len(time)"
   ]
  },
  {
   "cell_type": "code",
   "execution_count": null,
   "metadata": {},
   "outputs": [],
   "source": [
    "fig, ax = plt.subplots(1, figsize=(5,3))\n",
    "\n",
    "ax.plot(time*1000, x - hx, label = \"error\")\n",
    "ax.legend()\n",
    "ax.grid()\n",
    "ax.set_xlabel(\"Time [ms]\")\n",
    "ax.set_ylabel(\"Voltage [V]\")\n",
    "ax.set_title(\"Votlage signals\")"
   ]
  },
  {
   "cell_type": "code",
   "execution_count": 19,
   "metadata": {},
   "outputs": [],
   "source": [
    "# fig, ax = plt.subplots(1, figsize=(10,3))\n",
    "# for i in range(ij.shape[1]):\n",
    "#     ax.plot(time*1000, 5 - ij[:,i], label = f\"ij{i+1}\")\n",
    "# # ax.legend()\n",
    "# ax.grid()\n",
    "# ax.set_xlabel(\"Time [ms]\")\n",
    "# ax.set_ylabel(\"ThicknessFill [V]\")\n",
    "# ax.set_title(\"Memristance value ij\")"
   ]
  },
  {
   "cell_type": "code",
   "execution_count": 20,
   "metadata": {},
   "outputs": [],
   "source": [
    "# fig, ax = plt.subplots(1, figsize=(10,3))\n",
    "# for i in range(jk.shape[1]):\n",
    "#     ax.plot(time*1000, 5 - jk[:,i], label = f\"jk{i+1}\")\n",
    "# # ax.legend()\n",
    "# ax.grid()\n",
    "# ax.set_xlabel(\"Time [ms]\")\n",
    "# ax.set_ylabel(\"ThicknessFill [V]\")\n",
    "# ax.set_title(\"Memristance value jk\")"
   ]
  }
 ],
 "metadata": {
  "kernelspec": {
   "display_name": "base",
   "language": "python",
   "name": "python3"
  },
  "language_info": {
   "codemirror_mode": {
    "name": "ipython",
    "version": 3
   },
   "file_extension": ".py",
   "mimetype": "text/x-python",
   "name": "python",
   "nbconvert_exporter": "python",
   "pygments_lexer": "ipython3",
   "version": "3.11.6"
  }
 },
 "nbformat": 4,
 "nbformat_minor": 2
}
