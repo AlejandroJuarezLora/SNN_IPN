{
 "cells": [
  {
   "cell_type": "code",
   "execution_count": null,
   "metadata": {},
   "outputs": [],
   "source": [
    "import numpy as np\n",
    "import matplotlib.pyplot as plt\n",
    "\n",
    "# Load data from the .txt file\n",
    "#ssh -Y cic@148.204.66.123\n",
    "#ssh -Y alex@148.204.66.53\n",
    "\n",
    "#source ~/miniconda3/bin/activate\n",
    "#python3 tb_4x8x4_proc.py\n",
    "#scp alex@148.204.66.53:'/home/cic/Desktop/EDA/SNN_IPN/sim_results/*.pdf' .\n",
    "#scp cic@148.204.66.123:'/home/cic/Desktop/EDA/SNN_IPN/sim_results/*.pdf' .\n",
    "\n",
    "\n",
    "#scp alex@148.204.66.53:/home/alex/Desktop/EDA/SNN_IPN/sim_results/tb_4x8x4_data.txt . \n",
    "#scp cic@148.204.66.123:/home/cic/Desktop/EDA/SNN_IPN/sim_results/tb_4x8x4_data.txt  .\n",
    "data = np.loadtxt('tb_4x8x4_data.txt', skiprows=1)  # Adjust 'data.txt' to your filename\n",
    "# data = np.loadtxt('tb_4x8x4_data_input_random.txt', skiprows=1)  # Adjust 'data.txt' to your filename\n",
    "\n",
    "# Store each column into separate vectors\n",
    "time = data[:, 0]\n",
    "vin = data[:, 1]\n",
    "Vr1 = data[:, 2]\n",
    "iVread = data[:, 3]\n",
    "hx = data[:, 4]\n",
    "x = data[:, 5]\n",
    "n = data[:, 6:10]\n",
    "m = data[:, 10:14]\n",
    "j = data[:, 14:22]\n",
    "ij = data[:, 22:54]\n",
    "jk = data[:, 54:]"
   ]
  },
  {
   "cell_type": "code",
   "execution_count": null,
   "metadata": {},
   "outputs": [],
   "source": [
    "fig, ax = plt.subplots(1, figsize=(10,2))\n",
    "for i in range(n.shape[1]):\n",
    "    ax.plot(time*1000, n[:,i]+(1.8*i), label = f\"N{i+1}\")\n",
    "ax.legend()\n",
    "ax.grid()\n",
    "ax.set_xlabel(\"Time [ms]\")\n",
    "ax.set_ylabel(\"Spikes [V]\")\n",
    "ax.set_title(\"Input Layer Neural activity\")\n",
    "# fig.savefig('InputLayer.pdf')"
   ]
  },
  {
   "cell_type": "code",
   "execution_count": null,
   "metadata": {},
   "outputs": [],
   "source": [
    "fig, ax = plt.subplots(1, figsize=(10,2))\n",
    "for i in range(j.shape[1]):\n",
    "    ax.plot(time*1000, j[:,i]+(1.8*i), label = f\"N{i+1}\")\n",
    "ax.legend()\n",
    "ax.grid()\n",
    "ax.set_xlabel(\"Time [ms]\")\n",
    "ax.set_ylabel(\"Spikes [V]\")\n",
    "ax.set_title(\"Hidden Layer Neural activity\")\n",
    "# fig.savefig('HiddenLayer.pdf')"
   ]
  },
  {
   "cell_type": "code",
   "execution_count": null,
   "metadata": {},
   "outputs": [],
   "source": [
    "fig, ax = plt.subplots(1, figsize=(10,2))\n",
    "for i in range(m.shape[1]):\n",
    "    ax.plot(time*1000, m[:,i]+(1.8*i), label = f\"M{i+1}\")\n",
    "ax.legend()\n",
    "ax.grid()\n",
    "ax.set_xlabel(\"Time [ms]\")\n",
    "ax.set_ylabel(\"Spikes [V]\")\n",
    "ax.set_title(\"Output Layer Neural activity\")\n",
    "# fig.savefig('OutputLayer.pdf')"
   ]
  },
  {
   "cell_type": "code",
   "execution_count": null,
   "metadata": {},
   "outputs": [],
   "source": [
    "fig, ax = plt.subplots(1, figsize=(15,3))\n",
    "\n",
    "\n",
    "ax.plot(time*1000, Vr1, label = \"Vr1\")\n",
    "ax.legend()\n",
    "ax.grid()\n",
    "ax.set_xlabel(\"Time [ms]\")\n",
    "ax.set_ylabel(\"Voltage [V]\")\n",
    "ax.set_title(\"Reward Signal\")\n",
    "# fig.savefig('RewardSignal.pdf')"
   ]
  },
  {
   "cell_type": "code",
   "execution_count": null,
   "metadata": {},
   "outputs": [],
   "source": [
    "fig, ax = plt.subplots(1, figsize=(8,3))\n",
    "\n",
    "ax.plot(time*1000, hx, label = \"$\\hat x$\")\n",
    "ax.plot(time*1000, x, label = \"x\")\n",
    "ax.legend()\n",
    "ax.grid()\n",
    "ax.set_xlabel(\"Time [ms]\")\n",
    "ax.set_ylabel(\"Voltage [V]\")\n",
    "ax.set_title(\"Votlage signals\")\n",
    "# fig.savefig('xversushx.pdf')"
   ]
  },
  {
   "cell_type": "code",
   "execution_count": null,
   "metadata": {},
   "outputs": [],
   "source": [
    "fig, ax = plt.subplots(1, figsize=(8,3))\n",
    "\n",
    "ax.plot(time*1000, x - hx, label = \"error\")\n",
    "ax.legend()\n",
    "ax.grid()\n",
    "ax.set_xlabel(\"Time [ms]\")\n",
    "ax.set_ylabel(\"Voltage [V]\")\n",
    "ax.set_title(\"Error\")\n",
    "# fig.savefig('errorxvxhx.pdf')"
   ]
  },
  {
   "cell_type": "code",
   "execution_count": null,
   "metadata": {},
   "outputs": [],
   "source": [
    "fig, ax = plt.subplots(1, figsize=(15,3))\n",
    "\n",
    "\n",
    "ax.plot(time*1000, vin, label = \"vin\")\n",
    "ax.legend()\n",
    "ax.grid()\n",
    "ax.set_xlabel(\"Time [ms]\")\n",
    "ax.set_ylabel(\"Voltage [V]\")\n",
    "ax.set_title(\"input signal\")\n",
    "# fig.savefig('vin.pdf')"
   ]
  },
  {
   "cell_type": "code",
   "execution_count": null,
   "metadata": {},
   "outputs": [],
   "source": [
    "fig, ax = plt.subplots(1, figsize=(10,3))\n",
    "for i in range(ij.shape[1]):\n",
    "    ax.plot(time*1000, 5 - ij[:,i], label = f\"ij{i+1}\")\n",
    "# ax.legend()\n",
    "ax.grid()\n",
    "ax.set_xlabel(\"Time [ms]\")\n",
    "ax.set_ylabel(\"ThicknessFill [V]\")\n",
    "ax.set_title(\"Memristance value ij\")\n",
    "# fig.savefig('wij.pdf')"
   ]
  },
  {
   "cell_type": "code",
   "execution_count": null,
   "metadata": {},
   "outputs": [],
   "source": [
    "fig, ax = plt.subplots(1, figsize=(10,3))\n",
    "for i in range(jk.shape[1]):\n",
    "    ax.plot(time*1000, 5 - jk[:,i], label = f\"jk{i+1}\")\n",
    "# ax.legend()\n",
    "ax.grid()\n",
    "ax.set_xlabel(\"Time [ms]\")\n",
    "ax.set_ylabel(\"ThicknessFill [V]\")\n",
    "ax.set_title(\"Memristance value jk\")\n",
    "# fig.savefig('wjk.pdf')"
   ]
  }
 ],
 "metadata": {
  "kernelspec": {
   "display_name": "base",
   "language": "python",
   "name": "python3"
  },
  "language_info": {
   "codemirror_mode": {
    "name": "ipython",
    "version": 3
   },
   "file_extension": ".py",
   "mimetype": "text/x-python",
   "name": "python",
   "nbconvert_exporter": "python",
   "pygments_lexer": "ipython3",
   "version": "3.11.6"
  }
 },
 "nbformat": 4,
 "nbformat_minor": 2
}
