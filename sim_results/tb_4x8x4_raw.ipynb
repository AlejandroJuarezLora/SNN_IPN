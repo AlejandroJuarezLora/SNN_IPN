{
 "cells": [
  {
   "cell_type": "code",
   "execution_count": 16,
   "metadata": {},
   "outputs": [],
   "source": [
    "import numpy as np\n",
    "import matplotlib.pyplot as plt\n",
    "\n",
    "\n",
    "# Load data from the .txt file\n",
    "#ssh -Y cic@148.204.66.123\n",
    "#ssh -Y osicmicrose@148.204.66.53\n",
    "#scp osicmicrose@148.204.66.53:/home/osicmicrose/Desktop/EDA/SNN_IPN/sim_results/tb_4x8x4_data.txt . \n",
    "#scp cic@148.204.66.123:/home/cic/.xschem/simulations/tb_4x8x4_data.txt  .\n",
    "# data = np.loadtxt('tb_4x8x4_data.txt', skiprows=1)  # Adjust 'data.txt' to your filename\n"
   ]
  },
  {
   "cell_type": "code",
   "execution_count": 17,
   "metadata": {},
   "outputs": [
    {
     "ename": "ValueError",
     "evalue": "could not convert string to float: '\\x95Ö&è'",
     "output_type": "error",
     "traceback": [
      "\u001b[0;31m---------------------------------------------------------------------------\u001b[0m",
      "\u001b[0;31mValueError\u001b[0m                                Traceback (most recent call last)",
      "Cell \u001b[0;32mIn[17], line 28\u001b[0m\n\u001b[1;32m     25\u001b[0m     matrix \u001b[38;5;241m=\u001b[39m np\u001b[38;5;241m.\u001b[39marray(data)\n\u001b[1;32m     26\u001b[0m     \u001b[38;5;28;01mreturn\u001b[39;00m matrix\n\u001b[0;32m---> 28\u001b[0m data \u001b[38;5;241m=\u001b[39m \u001b[43mread_ngspice_raw\u001b[49m\u001b[43m(\u001b[49m\u001b[38;5;124;43m\"\u001b[39;49m\u001b[38;5;124;43mtb_4x8x4_data.raw\u001b[39;49m\u001b[38;5;124;43m\"\u001b[39;49m\u001b[43m)\u001b[49m\n",
      "Cell \u001b[0;32mIn[17], line 21\u001b[0m, in \u001b[0;36mread_ngspice_raw\u001b[0;34m(file_path)\u001b[0m\n\u001b[1;32m     19\u001b[0m         \u001b[38;5;28;01mcontinue\u001b[39;00m\n\u001b[1;32m     20\u001b[0m     \u001b[38;5;66;03m# Split the line into columns and convert to float\u001b[39;00m\n\u001b[0;32m---> 21\u001b[0m     row \u001b[38;5;241m=\u001b[39m \u001b[38;5;28;43mlist\u001b[39;49m\u001b[43m(\u001b[49m\u001b[38;5;28;43mmap\u001b[39;49m\u001b[43m(\u001b[49m\u001b[38;5;28;43mfloat\u001b[39;49m\u001b[43m,\u001b[49m\u001b[43m \u001b[49m\u001b[43mline\u001b[49m\u001b[38;5;241;43m.\u001b[39;49m\u001b[43msplit\u001b[49m\u001b[43m(\u001b[49m\u001b[43m)\u001b[49m\u001b[43m)\u001b[49m\u001b[43m)\u001b[49m\n\u001b[1;32m     22\u001b[0m     data\u001b[38;5;241m.\u001b[39mappend(row)\n\u001b[1;32m     24\u001b[0m \u001b[38;5;66;03m# Convert the list of rows into a numpy array (matrix)\u001b[39;00m\n",
      "\u001b[0;31mValueError\u001b[0m: could not convert string to float: '\\x95Ö&è'"
     ]
    }
   ],
   "source": [
    "def read_ngspice_raw(file_path):\n",
    "    # Initialize a list to store the data\n",
    "    data = []\n",
    "\n",
    "    with open(file_path, 'rb') as file:  # Open in binary mode\n",
    "        content = file.read()  # Read the entire content\n",
    "        # Try decoding with a fallback encoding\n",
    "        try:\n",
    "            content = content.decode('utf-8')\n",
    "        except UnicodeDecodeError:\n",
    "            content = content.decode('latin1')   # Fallback to a different encoding\n",
    "\n",
    "    # Process the lines\n",
    "    lines = content.splitlines()\n",
    "    lines = lines[29:]\n",
    "    for line in lines:\n",
    "        # Ignore comment lines and empty lines\n",
    "        if line.startswith('#') or line.strip() == '':\n",
    "            continue\n",
    "        # Split the line into columns and convert to float\n",
    "        row = list(map(float, line.split()))\n",
    "        data.append(row)\n",
    "\n",
    "    # Convert the list of rows into a numpy array (matrix)\n",
    "    matrix = np.array(data)\n",
    "    return matrix\n",
    "\n",
    "data = read_ngspice_raw(\"tb_4x8x4_data.raw\")"
   ]
  },
  {
   "cell_type": "code",
   "execution_count": null,
   "metadata": {},
   "outputs": [],
   "source": [
    "\n",
    "\n",
    "# Store each column into separate vectors\n",
    "time = data[:, 0]\n",
    "vin = data[:, 1]\n",
    "Vr1 = data[:, 2]\n",
    "iVread = data[:, 3]\n",
    "hx = data[:, 4]\n",
    "x = data[:, 5]\n",
    "n = data[:, 6:10]\n",
    "m = data[:, 10:14]\n",
    "j = data[:, 14:22]\n",
    "ij = data[:, 22:54]\n",
    "jk = data[:, 54:]"
   ]
  },
  {
   "cell_type": "code",
   "execution_count": null,
   "metadata": {},
   "outputs": [],
   "source": [
    "fig, ax = plt.subplots(1, figsize=(10,2))\n",
    "for i in range(n.shape[1]):\n",
    "    ax.plot(time*1000, n[:,i]+(1.8*i), label = f\"N{i+1}\")\n",
    "ax.legend()\n",
    "ax.grid()\n",
    "ax.set_xlabel(\"Time [ms]\")\n",
    "ax.set_ylabel(\"Spikes [V]\")\n",
    "ax.set_title(\"Input Layer Neural activity\")"
   ]
  },
  {
   "cell_type": "code",
   "execution_count": null,
   "metadata": {},
   "outputs": [],
   "source": [
    "fig, ax = plt.subplots(1, figsize=(10,2))\n",
    "for i in range(j.shape[1]):\n",
    "    ax.plot(time*1000, j[:,i]+(1.8*i), label = f\"N{i+1}\")\n",
    "ax.legend()\n",
    "ax.grid()\n",
    "ax.set_xlabel(\"Time [ms]\")\n",
    "ax.set_ylabel(\"Spikes [V]\")\n",
    "ax.set_title(\"Hidden Layer Neural activity\")"
   ]
  },
  {
   "cell_type": "code",
   "execution_count": null,
   "metadata": {},
   "outputs": [],
   "source": [
    "fig, ax = plt.subplots(1, figsize=(10,2))\n",
    "for i in range(m.shape[1]):\n",
    "    ax.plot(time*1000, m[:,i]+(1.8*i), label = f\"M{i+1}\")\n",
    "ax.legend()\n",
    "ax.grid()\n",
    "ax.set_xlabel(\"Time [ms]\")\n",
    "ax.set_ylabel(\"Spikes [V]\")\n",
    "ax.set_title(\"Output Layer Neural activity\")"
   ]
  },
  {
   "cell_type": "code",
   "execution_count": null,
   "metadata": {},
   "outputs": [],
   "source": [
    "fig, ax = plt.subplots(1, figsize=(10,2))\n",
    "ax.plot(time*1000, iVread, label = \"Vin\")\n",
    "ax.set_xlabel(\"Time [ms]\")\n",
    "ax.set_ylabel(\"Output Current [uA]\")\n",
    "ax.set_title(\"OutputCurrent\")\n",
    "ax.grid()"
   ]
  },
  {
   "cell_type": "code",
   "execution_count": null,
   "metadata": {},
   "outputs": [],
   "source": [
    "fig, ax = plt.subplots(1, figsize=(15,3))\n",
    "\n",
    "ax.plot(time*1000, hx, label = \"$\\hat x$\")\n",
    "ax.plot(time*1000, x, label = \"x\")\n",
    "# ax.plot(time*1000, Vr1, label = \"Vr1\")\n",
    "ax.legend()\n",
    "ax.grid()\n",
    "ax.set_xlabel(\"Time [ms]\")\n",
    "ax.set_ylabel(\"Voltage [V]\")\n",
    "ax.set_title(\"Votlage signals\")"
   ]
  },
  {
   "cell_type": "code",
   "execution_count": null,
   "metadata": {},
   "outputs": [],
   "source": [
    "len(time)"
   ]
  },
  {
   "cell_type": "code",
   "execution_count": null,
   "metadata": {},
   "outputs": [],
   "source": [
    "fig, ax = plt.subplots(1, figsize=(5,3))\n",
    "\n",
    "ax.plot(time*1000, x - hx, label = \"error\")\n",
    "ax.legend()\n",
    "ax.grid()\n",
    "ax.set_xlabel(\"Time [ms]\")\n",
    "ax.set_ylabel(\"Voltage [V]\")\n",
    "ax.set_title(\"Votlage signals\")"
   ]
  },
  {
   "cell_type": "code",
   "execution_count": null,
   "metadata": {},
   "outputs": [],
   "source": [
    "fig, ax = plt.subplots(1, figsize=(10,3))\n",
    "for i in range(ij.shape[1]):\n",
    "    ax.plot(time*1000, 5 - ij[:,i], label = f\"ij{i+1}\")\n",
    "# ax.legend()\n",
    "ax.grid()\n",
    "ax.set_xlabel(\"Time [ms]\")\n",
    "ax.set_ylabel(\"ThicknessFill [V]\")\n",
    "ax.set_title(\"Memristance value ij\")"
   ]
  },
  {
   "cell_type": "code",
   "execution_count": null,
   "metadata": {},
   "outputs": [],
   "source": [
    "fig, ax = plt.subplots(1, figsize=(10,3))\n",
    "for i in range(jk.shape[1]):\n",
    "    ax.plot(time*1000, 5 - jk[:,i], label = f\"jk{i+1}\")\n",
    "# ax.legend()\n",
    "ax.grid()\n",
    "ax.set_xlabel(\"Time [ms]\")\n",
    "ax.set_ylabel(\"ThicknessFill [V]\")\n",
    "ax.set_title(\"Memristance value jk\")"
   ]
  }
 ],
 "metadata": {
  "kernelspec": {
   "display_name": "base",
   "language": "python",
   "name": "python3"
  },
  "language_info": {
   "codemirror_mode": {
    "name": "ipython",
    "version": 3
   },
   "file_extension": ".py",
   "mimetype": "text/x-python",
   "name": "python",
   "nbconvert_exporter": "python",
   "pygments_lexer": "ipython3",
   "version": "3.11.6"
  }
 },
 "nbformat": 4,
 "nbformat_minor": 2
}
