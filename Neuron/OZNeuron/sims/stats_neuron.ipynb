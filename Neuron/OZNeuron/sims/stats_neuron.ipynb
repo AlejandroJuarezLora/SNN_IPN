{
 "cells": [
  {
   "cell_type": "code",
   "execution_count": 125,
   "metadata": {},
   "outputs": [],
   "source": [
    "import pathlib\n",
    "import numpy as np\n",
    "import pandas as pd\n",
    "import matplotlib.pyplot as plt\n",
    "\n"
   ]
  },
  {
   "cell_type": "code",
   "execution_count": 126,
   "metadata": {},
   "outputs": [],
   "source": [
    "def file2table(file):\n",
    "    emp=[]\n",
    "    data = pd.read_csv(file.open(), header = None)\n",
    "    for a in range(1,len(data)):\n",
    "        tmp=[a for a in data.iloc[a][0].split(' ') if a != '']\n",
    "        emp.append(tmp)\n",
    "    emp=pd.DataFrame(emp)\n",
    "    return emp"
   ]
  },
  {
   "cell_type": "code",
   "execution_count": 127,
   "metadata": {},
   "outputs": [],
   "source": [
    "def table2matrix(tablaRaw):\n",
    "    #poniendo todo en columnas\n",
    "    x=[]\n",
    "    y=[]\n",
    "    for a in range(len(tablaRaw.columns)):\n",
    "        if a % 2 == 0:\n",
    "            # Even column index, add data points to x\n",
    "            x.append(tablaRaw.iloc[:, a].values.astype(float))\n",
    "        else:\n",
    "            # Odd column index, add data points to y\n",
    "            y.append(tablaRaw.iloc[:, a].values.astype(float))\n",
    "    return x, y"
   ]
  },
  {
   "cell_type": "code",
   "execution_count": 128,
   "metadata": {},
   "outputs": [],
   "source": [
    "def spikeDetector(vouts):\n",
    "    #retorna true si el voltaje de salida supera 1.6V\n",
    "    #el vector de salida es de la misma longitud que el de la entrada\n",
    "    #obteniendo un arreglo con los spikes por cada simulacion\n",
    "    spikes=[]      \n",
    "    for a in vouts:\n",
    "        result = [True if a >= 1.7 else False for a in a]\n",
    "        index=[]\n",
    "        for b in range(len(result)-1):\n",
    "            if result[b] == 1 and result[b+1] == 0:\n",
    "                index.append(True)\n",
    "            else:\n",
    "                index.append(False)\n",
    "        spikes.append(index)\n",
    "    return spikes"
   ]
  },
  {
   "cell_type": "code",
   "execution_count": 129,
   "metadata": {},
   "outputs": [],
   "source": [
    "def obtainFrequencies(x, y, spikes):\n",
    "    #obteniendo el tiempo entre spikes y metiendolo en un arreglo\n",
    "    vals=[]\n",
    "    for a in range(len(y)):\n",
    "        mask=spikes[a]\n",
    "        vari=x[a][:-1][mask]\n",
    "        #print('Time between spikes for the {}th simulation is {}'.format(a+1,vari))\n",
    "        if len(vari)>=2:\n",
    "            tm_diff=vari[-1] - vari[-2]\n",
    "            vals.append(1/tm_diff)\n",
    "            #print(f\"Spike frequency of the impulses is {1/tm_diff}\")\n",
    "        else:\n",
    "            #print('No spikes detected')\n",
    "            vals.append(0)\n",
    "    return vals"
   ]
  },
  {
   "cell_type": "code",
   "execution_count": 138,
   "metadata": {},
   "outputs": [],
   "source": [
    "files = [f for f in pathlib.Path().glob(\"tc_1.2.txt\")]\n",
    "\n",
    "\n",
    "for file in files:\n",
    "    tablaFile = file2table(file)\n",
    "    x , y = table2matrix(tablaFile)\n",
    "    y_spikes = spikeDetector(y)\n",
    "    fout_sweep = obtainFrequencies(x, y, y_spikes)\n",
    "    vin_sweep = np.arange(0, 1.8, 1.8/(len(y)))  #generando un vector de 0-1.8V para el barrido de voltaje"
   ]
  },
  {
   "cell_type": "code",
   "execution_count": 139,
   "metadata": {},
   "outputs": [
    {
     "data": {
      "text/plain": [
       "[<matplotlib.lines.Line2D at 0x128af6ed0>]"
      ]
     },
     "execution_count": 139,
     "metadata": {},
     "output_type": "execute_result"
    },
    {
     "data": {
      "image/png": "[encoded data removed]",
      "text/plain": [
       "<Figure size 640x480 with 1 Axes>"
      ]
     },
     "metadata": {},
     "output_type": "display_data"
    }
   ],
   "source": [
    "plt.plot(x[0],y[20])"
   ]
  },
  {
   "cell_type": "code",
   "execution_count": 140,
   "metadata": {},
   "outputs": [
    {
     "data": {
      "text/plain": [
       "[<matplotlib.lines.Line2D at 0x169897f50>]"
      ]
     },
     "execution_count": 140,
     "metadata": {},
     "output_type": "execute_result"
    },
    {
     "data": {
      "image/png": "[encoded data removed]",
      "text/plain": [
       "<Figure size 640x480 with 1 Axes>"
      ]
     },
     "metadata": {},
     "output_type": "display_data"
    }
   ],
   "source": [
    "plt.plot(vin_sweep, fout_sweep, 'b.')"
   ]
  },
  {
   "cell_type": "code",
   "execution_count": null,
   "metadata": {},
   "outputs": [],
   "source": []
  }
 ],
 "metadata": {
  "kernelspec": {
   "display_name": "base",
   "language": "python",
   "name": "python3"
  },
  "language_info": {
   "codemirror_mode": {
    "name": "ipython",
    "version": 3
   },
   "file_extension": ".py",
   "mimetype": "text/x-python",
   "name": "python",
   "nbconvert_exporter": "python",
   "pygments_lexer": "ipython3",
   "version": "3.11.6"
  }
 },
 "nbformat": 4,
 "nbformat_minor": 2
}
